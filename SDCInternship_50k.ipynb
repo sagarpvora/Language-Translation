{
 "cells": [
  {
   "cell_type": "code",
   "execution_count": 1,
   "metadata": {
    "colab": {
     "base_uri": "https://localhost:8080/",
     "height": 80
    },
    "colab_type": "code",
    "id": "Kf1bpfPH8bG4",
    "outputId": "33868423-4877-4076-ad0b-7846fdf37087"
   },
   "outputs": [
    {
     "name": "stderr",
     "output_type": "stream",
     "text": [
      "Using TensorFlow backend.\n"
     ]
    },
    {
     "data": {
      "text/html": [
       "<p style=\"color: red;\">\n",
       "The default version of TensorFlow in Colab will soon switch to TensorFlow 2.x.<br>\n",
       "We recommend you <a href=\"https://www.tensorflow.org/guide/migrate\" target=\"_blank\">upgrade</a> now \n",
       "or ensure your notebook will continue to use TensorFlow 1.x via the <code>%tensorflow_version 1.x</code> magic:\n",
       "<a href=\"https://colab.research.google.com/notebooks/tensorflow_version.ipynb\" target=\"_blank\">more info</a>.</p>\n"
      ],
      "text/plain": [
       "<IPython.core.display.HTML object>"
      ]
     },
     "metadata": {
      "tags": []
     },
     "output_type": "display_data"
    }
   ],
   "source": [
    " import pandas as pd\n",
    "import numpy as np\n",
    "import string\n",
    "from string import digits\n",
    "import matplotlib.pyplot as plt\n",
    "%matplotlib inline\n",
    "import re\n",
    "from sklearn.utils import shuffle\n",
    "from sklearn.model_selection import train_test_split\n",
    "from keras.layers import Input, LSTM, Embedding, Dense\n",
    "from keras.models import Model"
   ]
  },
  {
   "cell_type": "code",
   "execution_count": 2,
   "metadata": {
    "colab": {
     "base_uri": "https://localhost:8080/",
     "height": 142,
     "resources": {
      "http://localhost:8080/nbextensions/google.colab/files.js": {
       "data": "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",
       "headers": [
        [
         "content-type",
         "application/javascript"
        ]
       ],
       "ok": true,
       "status": 200,
       "status_text": ""
      }
     }
    },
    "colab_type": "code",
    "id": "yJuR1Pr7_DFQ",
    "outputId": "d1c21f7e-1bbc-4780-e71d-cf83b309b62e"
   },
   "outputs": [
    {
     "data": {
      "text/html": [
       "\n",
       "     <input type=\"file\" id=\"files-90ec41e3-6757-491c-ac18-4e2ce54e2bef\" name=\"files[]\" multiple disabled />\n",
       "     <output id=\"result-90ec41e3-6757-491c-ac18-4e2ce54e2bef\">\n",
       "      Upload widget is only available when the cell has been executed in the\n",
       "      current browser session. Please rerun this cell to enable.\n",
       "      </output>\n",
       "      <script src=\"/nbextensions/google.colab/files.js\"></script> "
      ],
      "text/plain": [
       "<IPython.core.display.HTML object>"
      ]
     },
     "metadata": {
      "tags": []
     },
     "output_type": "display_data"
    },
    {
     "name": "stdout",
     "output_type": "stream",
     "text": [
      "Saving corpus_data.xlsx to corpus_data.xlsx\n",
      "Saving mar.txt to mar.txt\n",
      "Saving Translation Dataset.xlsx to Translation Dataset.xlsx\n"
     ]
    }
   ],
   "source": [
    "from google.colab import files\n",
    "f = files.upload()"
   ]
  },
  {
   "cell_type": "code",
   "execution_count": 6,
   "metadata": {
    "colab": {
     "base_uri": "https://localhost:8080/",
     "height": 544
    },
    "colab_type": "code",
    "id": "MBkztEPc9hI4",
    "outputId": "9e94faf4-e57e-4df1-cd09-3c382e33e1b4"
   },
   "outputs": [
    {
     "name": "stdout",
     "output_type": "stream",
     "text": [
      "[name: \"/device:CPU:0\"\n",
      "device_type: \"CPU\"\n",
      "memory_limit: 268435456\n",
      "locality {\n",
      "}\n",
      "incarnation: 2555664543862717514\n",
      ", name: \"/device:XLA_CPU:0\"\n",
      "device_type: \"XLA_CPU\"\n",
      "memory_limit: 17179869184\n",
      "locality {\n",
      "}\n",
      "incarnation: 1138988878442132764\n",
      "physical_device_desc: \"device: XLA_CPU device\"\n",
      ", name: \"/device:XLA_GPU:0\"\n",
      "device_type: \"XLA_GPU\"\n",
      "memory_limit: 17179869184\n",
      "locality {\n",
      "}\n",
      "incarnation: 5419545093096554901\n",
      "physical_device_desc: \"device: XLA_GPU device\"\n",
      ", name: \"/device:GPU:0\"\n",
      "device_type: \"GPU\"\n",
      "memory_limit: 15956099072\n",
      "locality {\n",
      "  bus_id: 1\n",
      "  links {\n",
      "  }\n",
      "}\n",
      "incarnation: 16064770871497363144\n",
      "physical_device_desc: \"device: 0, name: Tesla P100-PCIE-16GB, pci bus id: 0000:00:04.0, compute capability: 6.0\"\n",
      "]\n"
     ]
    }
   ],
   "source": [
    "from tensorflow.python.client import device_lib\n",
    "print(device_lib.list_local_devices())"
   ]
  },
  {
   "cell_type": "code",
   "execution_count": 2,
   "metadata": {
    "colab": {
     "base_uri": "https://localhost:8080/",
     "height": 190
    },
    "colab_type": "code",
    "id": "cJMMvvYSYex9",
    "outputId": "9e50603d-123f-430e-934c-d4e015f663e1"
   },
   "outputs": [
    {
     "name": "stdout",
     "output_type": "stream",
     "text": [
      "WARNING:tensorflow:From /usr/local/lib/python3.6/dist-packages/keras/backend/tensorflow_backend.py:190: The name tf.get_default_session is deprecated. Please use tf.compat.v1.get_default_session instead.\n",
      "\n",
      "WARNING:tensorflow:From /usr/local/lib/python3.6/dist-packages/keras/backend/tensorflow_backend.py:197: The name tf.ConfigProto is deprecated. Please use tf.compat.v1.ConfigProto instead.\n",
      "\n",
      "WARNING:tensorflow:From /usr/local/lib/python3.6/dist-packages/keras/backend/tensorflow_backend.py:203: The name tf.Session is deprecated. Please use tf.compat.v1.Session instead.\n",
      "\n",
      "WARNING:tensorflow:From /usr/local/lib/python3.6/dist-packages/keras/backend/tensorflow_backend.py:207: The name tf.global_variables is deprecated. Please use tf.compat.v1.global_variables instead.\n",
      "\n"
     ]
    },
    {
     "data": {
      "text/plain": [
       "['/job:localhost/replica:0/task:0/device:GPU:0']"
      ]
     },
     "execution_count": 2,
     "metadata": {
      "tags": []
     },
     "output_type": "execute_result"
    }
   ],
   "source": [
    "from keras import backend as K\n",
    "K.tensorflow_backend._get_available_gpus()"
   ]
  },
  {
   "cell_type": "code",
   "execution_count": 0,
   "metadata": {
    "colab": {},
    "colab_type": "code",
    "id": "n502ScdV51UR"
   },
   "outputs": [],
   "source": [
    "df_1 = pd.read_excel('corpus_data.xlsx')"
   ]
  },
  {
   "cell_type": "code",
   "execution_count": 0,
   "metadata": {
    "colab": {},
    "colab_type": "code",
    "id": "rQfrSWO46Bw-"
   },
   "outputs": [],
   "source": [
    "df_2 = pd.read_csv('mar.txt',sep = '\\t')"
   ]
  },
  {
   "cell_type": "code",
   "execution_count": 0,
   "metadata": {
    "colab": {},
    "colab_type": "code",
    "id": "3l640KJe6BuT"
   },
   "outputs": [],
   "source": [
    "df_2.columns = ['eng','mar','..']\n",
    "df_2 = df_2[['eng','mar']]"
   ]
  },
  {
   "cell_type": "code",
   "execution_count": 0,
   "metadata": {
    "colab": {},
    "colab_type": "code",
    "id": "apCLYakw6Brs"
   },
   "outputs": [],
   "source": [
    "df_1.columns =  df_2.columns"
   ]
  },
  {
   "cell_type": "code",
   "execution_count": 0,
   "metadata": {
    "colab": {},
    "colab_type": "code",
    "id": "OhOyN4Fr6qMq"
   },
   "outputs": [],
   "source": [
    "frame_combined = pd.concat([df_1, df_2], ignore_index=True)"
   ]
  },
  {
   "cell_type": "code",
   "execution_count": 0,
   "metadata": {
    "colab": {},
    "colab_type": "code",
    "id": "VF2n2tt86Bo9"
   },
   "outputs": [],
   "source": [
    "lines = frame_combined.sample(50000)"
   ]
  },
  {
   "cell_type": "code",
   "execution_count": 8,
   "metadata": {
    "colab": {
     "base_uri": "https://localhost:8080/",
     "height": 34
    },
    "colab_type": "code",
    "id": "FTWurqdq7JyX",
    "outputId": "e3d5e491-fc63-4745-8d10-a09df3045ffc"
   },
   "outputs": [
    {
     "data": {
      "text/plain": [
       "50000"
      ]
     },
     "execution_count": 8,
     "metadata": {
      "tags": []
     },
     "output_type": "execute_result"
    }
   ],
   "source": [
    "len(lines)"
   ]
  },
  {
   "cell_type": "code",
   "execution_count": 0,
   "metadata": {
    "colab": {},
    "colab_type": "code",
    "id": "3ySQzT2A7Jux"
   },
   "outputs": [],
   "source": [
    "lines = lines.reset_index()"
   ]
  },
  {
   "cell_type": "code",
   "execution_count": 0,
   "metadata": {
    "colab": {},
    "colab_type": "code",
    "id": "Ruufpa4O7iBQ"
   },
   "outputs": [],
   "source": [
    "lines = lines[['eng','mar']]"
   ]
  },
  {
   "cell_type": "code",
   "execution_count": 0,
   "metadata": {
    "colab": {},
    "colab_type": "code",
    "id": "Wh7VE2HI7pow"
   },
   "outputs": [],
   "source": [
    "lines.eng = lines.eng.astype('str')\n",
    "lines.mar = lines.mar.astype('str')"
   ]
  },
  {
   "cell_type": "code",
   "execution_count": 12,
   "metadata": {
    "colab": {
     "base_uri": "https://localhost:8080/",
     "height": 204
    },
    "colab_type": "code",
    "id": "zZMlSTfp8bHM",
    "outputId": "9c5382a7-50ce-4434-8f3c-065995ba7f5a"
   },
   "outputs": [
    {
     "data": {
      "text/html": [
       "<div>\n",
       "<style scoped>\n",
       "    .dataframe tbody tr th:only-of-type {\n",
       "        vertical-align: middle;\n",
       "    }\n",
       "\n",
       "    .dataframe tbody tr th {\n",
       "        vertical-align: top;\n",
       "    }\n",
       "\n",
       "    .dataframe thead th {\n",
       "        text-align: right;\n",
       "    }\n",
       "</style>\n",
       "<table border=\"1\" class=\"dataframe\">\n",
       "  <thead>\n",
       "    <tr style=\"text-align: right;\">\n",
       "      <th></th>\n",
       "      <th>eng</th>\n",
       "      <th>mar</th>\n",
       "    </tr>\n",
       "  </thead>\n",
       "  <tbody>\n",
       "    <tr>\n",
       "      <th>0</th>\n",
       "      <td>I'll go with Tom.</td>\n",
       "      <td>मी टॉमबरोबर जाईन.</td>\n",
       "    </tr>\n",
       "    <tr>\n",
       "      <th>1</th>\n",
       "      <td>How can you translate what you don't understand?</td>\n",
       "      <td>जे तुला समजत नाही त्याचा तू अनुवाद कसा करू शकतोस?</td>\n",
       "    </tr>\n",
       "    <tr>\n",
       "      <th>2</th>\n",
       "      <td>Will you give me some?</td>\n",
       "      <td>तू मला थोडंसं देशील का?</td>\n",
       "    </tr>\n",
       "    <tr>\n",
       "      <th>3</th>\n",
       "      <td>Call me before you leave.</td>\n",
       "      <td>जाण्यापूर्वी मला फोन कर.</td>\n",
       "    </tr>\n",
       "    <tr>\n",
       "      <th>4</th>\n",
       "      <td>You should exercise.</td>\n",
       "      <td>तु व्यायाम करायला पाहिजेस.</td>\n",
       "    </tr>\n",
       "  </tbody>\n",
       "</table>\n",
       "</div>"
      ],
      "text/plain": [
       "                                                eng                                                mar\n",
       "0                                 I'll go with Tom.                                  मी टॉमबरोबर जाईन.\n",
       "1  How can you translate what you don't understand?  जे तुला समजत नाही त्याचा तू अनुवाद कसा करू शकतोस?\n",
       "2                            Will you give me some?                            तू मला थोडंसं देशील का?\n",
       "3                         Call me before you leave.                           जाण्यापूर्वी मला फोन कर.\n",
       "4                              You should exercise.                         तु व्यायाम करायला पाहिजेस."
      ]
     },
     "execution_count": 12,
     "metadata": {
      "tags": []
     },
     "output_type": "execute_result"
    }
   ],
   "source": [
    "lines.head(5)"
   ]
  },
  {
   "cell_type": "code",
   "execution_count": 0,
   "metadata": {
    "colab": {},
    "colab_type": "code",
    "id": "m7YWqes98bHV"
   },
   "outputs": [],
   "source": [
    "# Lowercase all characters\n",
    "lines.eng=lines.eng.apply(lambda x: x.lower())\n",
    "lines.mar=lines.mar.apply(lambda x: x.lower())"
   ]
  },
  {
   "cell_type": "code",
   "execution_count": 0,
   "metadata": {
    "colab": {},
    "colab_type": "code",
    "id": "wLbEY3Oy8bHg"
   },
   "outputs": [],
   "source": [
    "# Remove quotes\n",
    "lines.eng=lines.eng.apply(lambda x: re.sub(\"'\", '', x))\n",
    "lines.mar=lines.mar.apply(lambda x: re.sub(\"'\", '', x))"
   ]
  },
  {
   "cell_type": "code",
   "execution_count": 0,
   "metadata": {
    "colab": {},
    "colab_type": "code",
    "id": "XkxGJZJq8bHw"
   },
   "outputs": [],
   "source": [
    "exclude = set(string.punctuation) # Set of all special characters\n",
    "# Remove all the special characters\n",
    "lines.eng=lines.eng.apply(lambda x: ''.join(ch for ch in x if ch not in exclude))\n",
    "lines.mar=lines.mar.apply(lambda x: ''.join(ch for ch in x if ch not in exclude))"
   ]
  },
  {
   "cell_type": "code",
   "execution_count": 0,
   "metadata": {
    "colab": {},
    "colab_type": "code",
    "id": "OH326TY98bIC"
   },
   "outputs": [],
   "source": [
    "# Remove all numbers from text\n",
    "remove_digits = str.maketrans('', '', digits)\n",
    "lines.eng=lines.eng.apply(lambda x: x.translate(remove_digits))\n",
    "lines.mar = lines.mar.apply(lambda x: re.sub(\"[२३०८१५७९४६]\", \"\", x))"
   ]
  },
  {
   "cell_type": "code",
   "execution_count": 0,
   "metadata": {
    "colab": {},
    "colab_type": "code",
    "id": "dSWuRXFy8bIN"
   },
   "outputs": [],
   "source": [
    "# Remove extra spaces\n",
    "lines.eng=lines.eng.apply(lambda x: x.strip())\n",
    "lines.mar=lines.mar.apply(lambda x: x.strip())\n",
    "lines.eng=lines.eng.apply(lambda x: re.sub(\" +\", \" \", x))\n",
    "lines.mar=lines.mar.apply(lambda x: re.sub(\" +\", \" \", x))"
   ]
  },
  {
   "cell_type": "code",
   "execution_count": 0,
   "metadata": {
    "colab": {},
    "colab_type": "code",
    "id": "GAHIAaBc8bIW"
   },
   "outputs": [],
   "source": [
    "# Add start and end tokens to target sequences\n",
    "lines.mar = lines.mar.apply(lambda x : 'START_ '+ x + ' _END')"
   ]
  },
  {
   "cell_type": "code",
   "execution_count": 19,
   "metadata": {
    "colab": {
     "base_uri": "https://localhost:8080/",
     "height": 359
    },
    "colab_type": "code",
    "id": "8KBI3IAc8bIf",
    "outputId": "9e9dbbb6-0eef-4f76-89ce-2e02a57fe3a5"
   },
   "outputs": [
    {
     "data": {
      "text/html": [
       "<div>\n",
       "<style scoped>\n",
       "    .dataframe tbody tr th:only-of-type {\n",
       "        vertical-align: middle;\n",
       "    }\n",
       "\n",
       "    .dataframe tbody tr th {\n",
       "        vertical-align: top;\n",
       "    }\n",
       "\n",
       "    .dataframe thead th {\n",
       "        text-align: right;\n",
       "    }\n",
       "</style>\n",
       "<table border=\"1\" class=\"dataframe\">\n",
       "  <thead>\n",
       "    <tr style=\"text-align: right;\">\n",
       "      <th></th>\n",
       "      <th>eng</th>\n",
       "      <th>mar</th>\n",
       "    </tr>\n",
       "  </thead>\n",
       "  <tbody>\n",
       "    <tr>\n",
       "      <th>13539</th>\n",
       "      <td>i watch television</td>\n",
       "      <td>START_ मी टीव्ही बघतो _END</td>\n",
       "    </tr>\n",
       "    <tr>\n",
       "      <th>43165</th>\n",
       "      <td>no one knows tom is here</td>\n",
       "      <td>START_ टॉम इथे आहे हे कोणालाच ठाऊक नाहीये _END</td>\n",
       "    </tr>\n",
       "    <tr>\n",
       "      <th>25563</th>\n",
       "      <td>i put on my cap to go out</td>\n",
       "      <td>START_ मी बाहेर जायला माझी टोपी घातली _END</td>\n",
       "    </tr>\n",
       "    <tr>\n",
       "      <th>26654</th>\n",
       "      <td>he let me stay for a night</td>\n",
       "      <td>START_ त्याने मला एका रात्रीसाठी राहायला दिलं ...</td>\n",
       "    </tr>\n",
       "    <tr>\n",
       "      <th>14856</th>\n",
       "      <td>nothing can stop us now</td>\n",
       "      <td>START_ आता आपल्याला कोणीच थांबवू शकत नाही _END</td>\n",
       "    </tr>\n",
       "    <tr>\n",
       "      <th>32202</th>\n",
       "      <td>there was never this much snow before</td>\n",
       "      <td>START_ आधी इतका बर्फ कधीच नसायचा _END</td>\n",
       "    </tr>\n",
       "    <tr>\n",
       "      <th>44022</th>\n",
       "      <td>i dont want to take your money</td>\n",
       "      <td>START_ मला तुझे पैसे घ्यायचे नाहीयेत _END</td>\n",
       "    </tr>\n",
       "    <tr>\n",
       "      <th>29719</th>\n",
       "      <td>tom is going abroad next year</td>\n",
       "      <td>START_ टॉम पुढच्या वर्षी विदेशात जाणार आहे _END</td>\n",
       "    </tr>\n",
       "    <tr>\n",
       "      <th>14691</th>\n",
       "      <td>i was hungry and angry</td>\n",
       "      <td>START_ मी भूक लागली होती आणि राग आला होता _END</td>\n",
       "    </tr>\n",
       "    <tr>\n",
       "      <th>38449</th>\n",
       "      <td>hes watching me</td>\n",
       "      <td>START_ तो मला बघतोय _END</td>\n",
       "    </tr>\n",
       "  </tbody>\n",
       "</table>\n",
       "</div>"
      ],
      "text/plain": [
       "                                         eng                                                mar\n",
       "13539                     i watch television                         START_ मी टीव्ही बघतो _END\n",
       "43165               no one knows tom is here     START_ टॉम इथे आहे हे कोणालाच ठाऊक नाहीये _END\n",
       "25563              i put on my cap to go out         START_ मी बाहेर जायला माझी टोपी घातली _END\n",
       "26654             he let me stay for a night  START_ त्याने मला एका रात्रीसाठी राहायला दिलं ...\n",
       "14856                nothing can stop us now     START_ आता आपल्याला कोणीच थांबवू शकत नाही _END\n",
       "32202  there was never this much snow before              START_ आधी इतका बर्फ कधीच नसायचा _END\n",
       "44022         i dont want to take your money          START_ मला तुझे पैसे घ्यायचे नाहीयेत _END\n",
       "29719          tom is going abroad next year    START_ टॉम पुढच्या वर्षी विदेशात जाणार आहे _END\n",
       "14691                 i was hungry and angry     START_ मी भूक लागली होती आणि राग आला होता _END\n",
       "38449                        hes watching me                           START_ तो मला बघतोय _END"
      ]
     },
     "execution_count": 19,
     "metadata": {
      "tags": []
     },
     "output_type": "execute_result"
    }
   ],
   "source": [
    "\n",
    "lines.sample(10)"
   ]
  },
  {
   "cell_type": "code",
   "execution_count": 0,
   "metadata": {
    "colab": {},
    "colab_type": "code",
    "id": "jbEAXL_q8bIl"
   },
   "outputs": [],
   "source": [
    "# Vocabulary of English\n",
    "all_eng_words=set()\n",
    "for eng in lines.eng:\n",
    "    for word in eng.split():\n",
    "        if word not in all_eng_words:\n",
    "            all_eng_words.add(word)\n",
    "\n",
    "# Vocabulary of French \n",
    "all_marathi_words=set()\n",
    "for mar in lines.mar:\n",
    "    for word in mar.split():\n",
    "        if word not in all_marathi_words:\n",
    "            all_marathi_words.add(word)"
   ]
  },
  {
   "cell_type": "code",
   "execution_count": 21,
   "metadata": {
    "colab": {
     "base_uri": "https://localhost:8080/",
     "height": 34
    },
    "colab_type": "code",
    "id": "mfdF2amR8bIu",
    "outputId": "1e4fa288-4439-4166-faf9-2dfaed0a426d"
   },
   "outputs": [
    {
     "data": {
      "text/plain": [
       "61"
      ]
     },
     "execution_count": 21,
     "metadata": {
      "tags": []
     },
     "output_type": "execute_result"
    }
   ],
   "source": [
    "# Max Length of source sequence\n",
    "lenght_list=[]\n",
    "for l in lines.eng:\n",
    "    lenght_list.append(len(l.split(' ')))\n",
    "max_length_src = np.max(lenght_list)\n",
    "max_length_src"
   ]
  },
  {
   "cell_type": "code",
   "execution_count": 22,
   "metadata": {
    "colab": {
     "base_uri": "https://localhost:8080/",
     "height": 34
    },
    "colab_type": "code",
    "id": "FDwUAJAK8bI1",
    "outputId": "f01c0020-4bdb-4fe4-889f-161147582ee9"
   },
   "outputs": [
    {
     "data": {
      "text/plain": [
       "49"
      ]
     },
     "execution_count": 22,
     "metadata": {
      "tags": []
     },
     "output_type": "execute_result"
    }
   ],
   "source": [
    "# Max Length of target sequence\n",
    "lenght_list=[]\n",
    "for l in lines.mar:\n",
    "    lenght_list.append(len(l.split(' ')))\n",
    "max_length_tar = np.max(lenght_list)\n",
    "max_length_tar"
   ]
  },
  {
   "cell_type": "code",
   "execution_count": 23,
   "metadata": {
    "colab": {
     "base_uri": "https://localhost:8080/",
     "height": 34
    },
    "colab_type": "code",
    "id": "Q0rJhZsS8bI9",
    "outputId": "e37a21d6-ad67-48c7-94fd-a4d47496cbc2"
   },
   "outputs": [
    {
     "data": {
      "text/plain": [
       "(6979, 16048)"
      ]
     },
     "execution_count": 23,
     "metadata": {
      "tags": []
     },
     "output_type": "execute_result"
    }
   ],
   "source": [
    "input_words = sorted(list(all_eng_words))\n",
    "target_words = sorted(list(all_marathi_words))\n",
    "num_encoder_tokens = len(all_eng_words)\n",
    "num_decoder_tokens = len(all_marathi_words)\n",
    "num_encoder_tokens, num_decoder_tokens"
   ]
  },
  {
   "cell_type": "code",
   "execution_count": 24,
   "metadata": {
    "colab": {
     "base_uri": "https://localhost:8080/",
     "height": 34
    },
    "colab_type": "code",
    "id": "JEYuzAk98bJG",
    "outputId": "22cdff04-1381-4cff-ad47-76de6c1918df"
   },
   "outputs": [
    {
     "data": {
      "text/plain": [
       "16049"
      ]
     },
     "execution_count": 24,
     "metadata": {
      "tags": []
     },
     "output_type": "execute_result"
    }
   ],
   "source": [
    "num_decoder_tokens += 1 # For zero padding\n",
    "num_decoder_tokens"
   ]
  },
  {
   "cell_type": "code",
   "execution_count": 0,
   "metadata": {
    "colab": {},
    "colab_type": "code",
    "id": "4mbbMEs08bJP"
   },
   "outputs": [],
   "source": [
    "input_token_index = dict([(word, i+1) for i, word in enumerate(input_words)])\n",
    "target_token_index = dict([(word, i+1) for i, word in enumerate(target_words)])"
   ]
  },
  {
   "cell_type": "code",
   "execution_count": 0,
   "metadata": {
    "colab": {},
    "colab_type": "code",
    "id": "Q5dRYXFi8bJW"
   },
   "outputs": [],
   "source": [
    "reverse_input_char_index = dict((i, word) for word, i in input_token_index.items())\n",
    "reverse_target_char_index = dict((i, word) for word, i in target_token_index.items())"
   ]
  },
  {
   "cell_type": "code",
   "execution_count": 27,
   "metadata": {
    "colab": {
     "base_uri": "https://localhost:8080/",
     "height": 359
    },
    "colab_type": "code",
    "id": "SB6txkpv8bJf",
    "outputId": "973f5afd-aae2-440e-840f-44441819af47"
   },
   "outputs": [
    {
     "data": {
      "text/html": [
       "<div>\n",
       "<style scoped>\n",
       "    .dataframe tbody tr th:only-of-type {\n",
       "        vertical-align: middle;\n",
       "    }\n",
       "\n",
       "    .dataframe tbody tr th {\n",
       "        vertical-align: top;\n",
       "    }\n",
       "\n",
       "    .dataframe thead th {\n",
       "        text-align: right;\n",
       "    }\n",
       "</style>\n",
       "<table border=\"1\" class=\"dataframe\">\n",
       "  <thead>\n",
       "    <tr style=\"text-align: right;\">\n",
       "      <th></th>\n",
       "      <th>eng</th>\n",
       "      <th>mar</th>\n",
       "    </tr>\n",
       "  </thead>\n",
       "  <tbody>\n",
       "    <tr>\n",
       "      <th>19145</th>\n",
       "      <td>what are you going to do</td>\n",
       "      <td>START_ तुम्ही काय करणार आहात _END</td>\n",
       "    </tr>\n",
       "    <tr>\n",
       "      <th>36329</th>\n",
       "      <td>youre a monster</td>\n",
       "      <td>START_ तू राक्षस आहेस _END</td>\n",
       "    </tr>\n",
       "    <tr>\n",
       "      <th>1649</th>\n",
       "      <td>the child was sleeping on its mothers lap</td>\n",
       "      <td>START_ मूल आपल्या आईच्या मांडीवर झोपलेलं _END</td>\n",
       "    </tr>\n",
       "    <tr>\n",
       "      <th>47029</th>\n",
       "      <td>i think its unlikely that the next version of ...</td>\n",
       "      <td>START_ विंडोजची पुढची आवृत्ती या महीन्याच्या श...</td>\n",
       "    </tr>\n",
       "    <tr>\n",
       "      <th>34115</th>\n",
       "      <td>im trying to learn french</td>\n",
       "      <td>START_ मी फ्रेंच शिकायचा प्रयत्न करतेय _END</td>\n",
       "    </tr>\n",
       "    <tr>\n",
       "      <th>39967</th>\n",
       "      <td>tom is standing nearby</td>\n",
       "      <td>START_ टॉम जवळपास उभा आहे _END</td>\n",
       "    </tr>\n",
       "    <tr>\n",
       "      <th>43466</th>\n",
       "      <td>i can ski</td>\n",
       "      <td>START_ मला स्की करता येतं _END</td>\n",
       "    </tr>\n",
       "    <tr>\n",
       "      <th>39119</th>\n",
       "      <td>she still loves him</td>\n",
       "      <td>START_ ती अजूनही त्याच्यावर प्रेम करते _END</td>\n",
       "    </tr>\n",
       "    <tr>\n",
       "      <th>30463</th>\n",
       "      <td>i heard it too</td>\n",
       "      <td>START_ ते मीसुद्धा ऐकलं _END</td>\n",
       "    </tr>\n",
       "    <tr>\n",
       "      <th>531</th>\n",
       "      <td>theres a sandwich here</td>\n",
       "      <td>START_ इथे एक सँडविच आहे _END</td>\n",
       "    </tr>\n",
       "  </tbody>\n",
       "</table>\n",
       "</div>"
      ],
      "text/plain": [
       "                                                     eng                                                mar\n",
       "19145                           what are you going to do                  START_ तुम्ही काय करणार आहात _END\n",
       "36329                                    youre a monster                         START_ तू राक्षस आहेस _END\n",
       "1649           the child was sleeping on its mothers lap      START_ मूल आपल्या आईच्या मांडीवर झोपलेलं _END\n",
       "47029  i think its unlikely that the next version of ...  START_ विंडोजची पुढची आवृत्ती या महीन्याच्या श...\n",
       "34115                          im trying to learn french        START_ मी फ्रेंच शिकायचा प्रयत्न करतेय _END\n",
       "39967                             tom is standing nearby                     START_ टॉम जवळपास उभा आहे _END\n",
       "43466                                          i can ski                     START_ मला स्की करता येतं _END\n",
       "39119                                she still loves him        START_ ती अजूनही त्याच्यावर प्रेम करते _END\n",
       "30463                                     i heard it too                       START_ ते मीसुद्धा ऐकलं _END\n",
       "531                               theres a sandwich here                      START_ इथे एक सँडविच आहे _END"
      ]
     },
     "execution_count": 27,
     "metadata": {
      "tags": []
     },
     "output_type": "execute_result"
    }
   ],
   "source": [
    "lines = shuffle(lines)\n",
    "lines.head(10)"
   ]
  },
  {
   "cell_type": "code",
   "execution_count": 28,
   "metadata": {
    "colab": {
     "base_uri": "https://localhost:8080/",
     "height": 34
    },
    "colab_type": "code",
    "id": "gUp9uTzi8bJo",
    "outputId": "364f789a-8c4f-45ff-b08d-d4e6cffbc442"
   },
   "outputs": [
    {
     "data": {
      "text/plain": [
       "((45000,), (5000,))"
      ]
     },
     "execution_count": 28,
     "metadata": {
      "tags": []
     },
     "output_type": "execute_result"
    }
   ],
   "source": [
    "# Train - Test Split\n",
    "X, y = lines.eng, lines.mar\n",
    "X_train, X_test, y_train, y_test = train_test_split(X, y, test_size = 0.1)\n",
    "X_train.shape, X_test.shape"
   ]
  },
  {
   "cell_type": "code",
   "execution_count": 29,
   "metadata": {
    "colab": {
     "base_uri": "https://localhost:8080/",
     "height": 34
    },
    "colab_type": "code",
    "id": "xsWEtqF6YqsY",
    "outputId": "a5854485-73d4-4bb9-9c6e-4733447f642d"
   },
   "outputs": [
    {
     "data": {
      "text/plain": [
       "'/content'"
      ]
     },
     "execution_count": 29,
     "metadata": {
      "tags": []
     },
     "output_type": "execute_result"
    }
   ],
   "source": [
    "pwd"
   ]
  },
  {
   "cell_type": "markdown",
   "metadata": {
    "colab_type": "text",
    "id": "UMeXYZDu8bJw"
   },
   "source": [
    "#### Save the train and test dataframes for reproducing the results later, as they are shuffled."
   ]
  },
  {
   "cell_type": "code",
   "execution_count": 0,
   "metadata": {
    "colab": {},
    "colab_type": "code",
    "id": "pAUY7E5p8bJz"
   },
   "outputs": [],
   "source": [
    "\n",
    "X_train.to_pickle('/content/X_train.pkl')\n",
    "X_test.to_pickle('/content/X_test.pkl')"
   ]
  },
  {
   "cell_type": "code",
   "execution_count": 0,
   "metadata": {
    "colab": {},
    "colab_type": "code",
    "id": "j-SCDPoh8bKB"
   },
   "outputs": [],
   "source": [
    "def generate_batch(X = X_train, y = y_train, batch_size = 128):\n",
    "    ''' Generate a batch of data '''\n",
    "    while True:\n",
    "        for j in range(0, len(X), batch_size):\n",
    "            encoder_input_data = np.zeros((batch_size, max_length_src),dtype='float32')\n",
    "            decoder_input_data = np.zeros((batch_size, max_length_tar),dtype='float32')\n",
    "            decoder_target_data = np.zeros((batch_size, max_length_tar, num_decoder_tokens),dtype='float32')\n",
    "            for i, (input_text, target_text) in enumerate(zip(X[j:j+batch_size], y[j:j+batch_size])):\n",
    "                for t, word in enumerate(input_text.split()):\n",
    "                    encoder_input_data[i, t] = input_token_index[word] # encoder input seq\n",
    "                for t, word in enumerate(target_text.split()):\n",
    "                    if t<len(target_text.split())-1:\n",
    "                        decoder_input_data[i, t] = target_token_index[word] # decoder input seq\n",
    "                    if t>0:\n",
    "                        # decoder target sequence (one hot encoded)\n",
    "                        # does not include the START_ token\n",
    "                        # Offset by one timestep\n",
    "                        decoder_target_data[i, t - 1, target_token_index[word]] = 1.\n",
    "            yield([encoder_input_data, decoder_input_data], decoder_target_data)"
   ]
  },
  {
   "cell_type": "markdown",
   "metadata": {
    "colab_type": "text",
    "id": "Kwh3VxcN8bKK"
   },
   "source": [
    "### Encoder - Decoder Model Architecture"
   ]
  },
  {
   "cell_type": "code",
   "execution_count": 0,
   "metadata": {
    "colab": {},
    "colab_type": "code",
    "id": "VULX2Bgy8bKM"
   },
   "outputs": [],
   "source": [
    "latent_dim = 50"
   ]
  },
  {
   "cell_type": "code",
   "execution_count": 33,
   "metadata": {
    "colab": {
     "base_uri": "https://localhost:8080/",
     "height": 190
    },
    "colab_type": "code",
    "id": "TxmH6pPx8bKV",
    "outputId": "80901213-626f-4c37-f349-83cdac7a06e6"
   },
   "outputs": [
    {
     "name": "stdout",
     "output_type": "stream",
     "text": [
      "WARNING:tensorflow:From /usr/local/lib/python3.6/dist-packages/keras/backend/tensorflow_backend.py:66: The name tf.get_default_graph is deprecated. Please use tf.compat.v1.get_default_graph instead.\n",
      "\n",
      "WARNING:tensorflow:From /usr/local/lib/python3.6/dist-packages/keras/backend/tensorflow_backend.py:541: The name tf.placeholder is deprecated. Please use tf.compat.v1.placeholder instead.\n",
      "\n",
      "WARNING:tensorflow:From /usr/local/lib/python3.6/dist-packages/keras/backend/tensorflow_backend.py:4432: The name tf.random_uniform is deprecated. Please use tf.random.uniform instead.\n",
      "\n",
      "WARNING:tensorflow:From /usr/local/lib/python3.6/dist-packages/keras/backend/tensorflow_backend.py:3239: where (from tensorflow.python.ops.array_ops) is deprecated and will be removed in a future version.\n",
      "Instructions for updating:\n",
      "Use tf.where in 2.0, which has the same broadcast rule as np.where\n"
     ]
    }
   ],
   "source": [
    "# Encoder\n",
    "encoder_inputs = Input(shape=(None,))\n",
    "enc_emb =  Embedding(num_encoder_tokens, latent_dim, mask_zero = True)(encoder_inputs)\n",
    "encoder_lstm = LSTM(latent_dim, return_state=True)\n",
    "encoder_outputs, state_h, state_c = encoder_lstm(enc_emb)\n",
    "# We discard `encoder_outputs` and only keep the states.\n",
    "encoder_states = [state_h, state_c]"
   ]
  },
  {
   "cell_type": "code",
   "execution_count": 0,
   "metadata": {
    "colab": {},
    "colab_type": "code",
    "id": "fKUp-Wv-8bKa"
   },
   "outputs": [],
   "source": [
    "# Set up the decoder, using `encoder_states` as initial state.\n",
    "decoder_inputs = Input(shape=(None,))\n",
    "dec_emb_layer = Embedding(num_decoder_tokens, latent_dim, mask_zero = True)\n",
    "dec_emb = dec_emb_layer(decoder_inputs)\n",
    "# We set up our decoder to return full output sequences,\n",
    "# and to return internal states as well. We don't use the\n",
    "# return states in the training model, but we will use them in inference.\n",
    "decoder_lstm = LSTM(latent_dim, return_sequences=True, return_state=True)\n",
    "decoder_outputs, _, _ = decoder_lstm(dec_emb,\n",
    "                                     initial_state=encoder_states)\n",
    "decoder_dense = Dense(num_decoder_tokens, activation='softmax')\n",
    "decoder_outputs = decoder_dense(decoder_outputs)\n",
    "\n",
    "# Define the model that will turn\n",
    "# `encoder_input_data` & `decoder_input_data` into `decoder_target_data`\n",
    "model = Model([encoder_inputs, decoder_inputs], decoder_outputs)"
   ]
  },
  {
   "cell_type": "code",
   "execution_count": 35,
   "metadata": {
    "colab": {
     "base_uri": "https://localhost:8080/",
     "height": 105
    },
    "colab_type": "code",
    "id": "Fn7fyFLo8bKg",
    "outputId": "1409fac3-2fb6-4512-da8f-8a7aa5a2da00"
   },
   "outputs": [
    {
     "name": "stdout",
     "output_type": "stream",
     "text": [
      "WARNING:tensorflow:From /usr/local/lib/python3.6/dist-packages/keras/optimizers.py:793: The name tf.train.Optimizer is deprecated. Please use tf.compat.v1.train.Optimizer instead.\n",
      "\n",
      "WARNING:tensorflow:From /usr/local/lib/python3.6/dist-packages/keras/backend/tensorflow_backend.py:3576: The name tf.log is deprecated. Please use tf.math.log instead.\n",
      "\n"
     ]
    }
   ],
   "source": [
    "model.compile(optimizer='rmsprop', loss='categorical_crossentropy', metrics=['acc'])"
   ]
  },
  {
   "cell_type": "code",
   "execution_count": 0,
   "metadata": {
    "colab": {},
    "colab_type": "code",
    "id": "4X_YGI-Y8bKs"
   },
   "outputs": [],
   "source": [
    "train_samples = len(X_train)\n",
    "val_samples = len(X_test)\n",
    "batch_size = 256\n",
    "epochs = 50"
   ]
  },
  {
   "cell_type": "code",
   "execution_count": null,
   "metadata": {
    "colab": {
     "base_uri": "https://localhost:8080/",
     "height": 1000
    },
    "colab_type": "code",
    "id": "9DeT9qyi8bKz",
    "outputId": "050a588c-e691-4910-dec2-9e9a65ed412d"
   },
   "outputs": [],
   "source": [
    "model.fit_generator(generator = generate_batch(X_train, y_train, batch_size = batch_size),\n",
    "                    steps_per_epoch = train_samples//batch_size,\n",
    "                    epochs=epochs,\n",
    "                    validation_data = generate_batch(X_test, y_test, batch_size = batch_size),\n",
    "                    validation_steps = val_samples//batch_size)"
   ]
  },
  {
   "cell_type": "markdown",
   "metadata": {
    "colab_type": "text",
    "id": "3qIQ_bMX8bK4"
   },
   "source": [
    "### Always remember to save the weights"
   ]
  },
  {
   "cell_type": "code",
   "execution_count": 0,
   "metadata": {
    "colab": {},
    "colab_type": "code",
    "id": "aGTZVlYF8bK6"
   },
   "outputs": [],
   "source": [
    "model.save_weights('nmt_weights.h5')"
   ]
  },
  {
   "cell_type": "markdown",
   "metadata": {
    "colab_type": "text",
    "id": "lk65ICPh8bLD"
   },
   "source": [
    "### Load the weights, if you close the application"
   ]
  },
  {
   "cell_type": "code",
   "execution_count": 0,
   "metadata": {
    "colab": {},
    "colab_type": "code",
    "id": "CZSENiTm8bLF"
   },
   "outputs": [],
   "source": [
    "model.load_weights('nmt_weights.h5')"
   ]
  },
  {
   "cell_type": "markdown",
   "metadata": {
    "colab_type": "text",
    "id": "7o0WXlne8bLL"
   },
   "source": [
    "### Inference Setup"
   ]
  },
  {
   "cell_type": "code",
   "execution_count": 0,
   "metadata": {
    "colab": {},
    "colab_type": "code",
    "id": "BXfCT0dq8bLP"
   },
   "outputs": [],
   "source": [
    "# Encode the input sequence to get the \"thought vectors\"\n",
    "encoder_model = Model(encoder_inputs, encoder_states)\n",
    "\n",
    "# Decoder setup\n",
    "# Below tensors will hold the states of the previous time step\n",
    "decoder_state_input_h = Input(shape=(latent_dim,))\n",
    "decoder_state_input_c = Input(shape=(latent_dim,))\n",
    "decoder_states_inputs = [decoder_state_input_h, decoder_state_input_c]\n",
    "\n",
    "dec_emb2= dec_emb_layer(decoder_inputs) # Get the embeddings of the decoder sequence\n",
    "\n",
    "# To predict the next word in the sequence, set the initial states to the states from the previous time step\n",
    "decoder_outputs2, state_h2, state_c2 = decoder_lstm(dec_emb2, initial_state=decoder_states_inputs)\n",
    "decoder_states2 = [state_h2, state_c2]\n",
    "decoder_outputs2 = decoder_dense(decoder_outputs2) # A dense softmax layer to generate prob dist. over the target vocabulary\n",
    "\n",
    "# Final decoder model\n",
    "decoder_model = Model(\n",
    "    [decoder_inputs] + decoder_states_inputs,\n",
    "    [decoder_outputs2] + decoder_states2)"
   ]
  },
  {
   "cell_type": "markdown",
   "metadata": {
    "colab_type": "text",
    "id": "hnLzHcZT8bLl"
   },
   "source": [
    "### Decode sample sequeces"
   ]
  },
  {
   "cell_type": "markdown",
   "metadata": {
    "colab_type": "text",
    "id": "HSdPWX288jnS"
   },
   "source": []
  },
  {
   "cell_type": "code",
   "execution_count": 0,
   "metadata": {
    "colab": {},
    "colab_type": "code",
    "id": "rbwD84S68bLn"
   },
   "outputs": [],
   "source": [
    "def decode_sequence(input_seq):\n",
    "    # Encode the input as state vectors.\n",
    "    states_value = encoder_model.predict(input_seq)\n",
    "    # Generate empty target sequence of length 1.\n",
    "    target_seq = np.zeros((1,1))\n",
    "    # Populate the first character of target sequence with the start character.\n",
    "    target_seq[0, 0] = target_token_index['START_']\n",
    "\n",
    "    # Sampling loop for a batch of sequences\n",
    "    # (to simplify, here we assume a batch of size 1).\n",
    "    stop_condition = False\n",
    "    decoded_sentence = ''\n",
    "    while not stop_condition:\n",
    "        output_tokens, h, c = decoder_model.predict([target_seq] + states_value)\n",
    "\n",
    "        # Sample a token\n",
    "        sampled_token_index = np.argmax(output_tokens[0, -1, :])\n",
    "        sampled_char = reverse_target_char_index[sampled_token_index]\n",
    "        decoded_sentence += ' '+sampled_char\n",
    "\n",
    "        # Exit condition: either hit max length\n",
    "        # or find stop character.\n",
    "        if (sampled_char == '_END' or\n",
    "           len(decoded_sentence) > 50):\n",
    "            stop_condition = True\n",
    "\n",
    "        # Update the target sequence (of length 1).\n",
    "        target_seq = np.zeros((1,1))\n",
    "        target_seq[0, 0] = sampled_token_index\n",
    "\n",
    "        # Update states\n",
    "        states_value = [h, c]\n",
    "\n",
    "    return decoded_sentence"
   ]
  },
  {
   "cell_type": "markdown",
   "metadata": {
    "colab_type": "text",
    "id": "U5slQ9H18bLr"
   },
   "source": [
    "### Evaluation on Train Dataset"
   ]
  },
  {
   "cell_type": "code",
   "execution_count": 0,
   "metadata": {
    "colab": {},
    "colab_type": "code",
    "id": "nCaIEkGV8bLt"
   },
   "outputs": [],
   "source": [
    "train_gen = generate_batch(X_train, y_train, batch_size = 1)\n",
    "k=-1"
   ]
  },
  {
   "cell_type": "code",
   "execution_count": 53,
   "metadata": {
    "colab": {
     "base_uri": "https://localhost:8080/",
     "height": 1000
    },
    "colab_type": "code",
    "id": "DemGLDqH5al9",
    "outputId": "88ec309a-49ad-43a4-d3cd-cfcd73aaf0a4"
   },
   "outputs": [
    {
     "name": "stdout",
     "output_type": "stream",
     "text": [
      "Input English sentence: its not easy to translate a poem in a foreign language\n",
      "Actual Marathi Translation:  एखाद्या कवितेचा एका विदेशी भाषेत अनुवाद करणं सोपं नसतं \n",
      "Predicted Marathi Translation:  एका तास जर एका दिवसात नाही अनुवाद आहे हे मला सुरू\n",
      "=====================================================\n",
      "Input English sentence: tom will tell mary everything\n",
      "Actual Marathi Translation:  टॉम मेरीला सर्वकाही सांगेल \n",
      "Predicted Marathi Translation:  टॉम मेरीला सर्वकाही सांगितलं \n",
      "=====================================================\n",
      "Input English sentence: are you all right\n",
      "Actual Marathi Translation:  तु बरा आहेस का \n",
      "Predicted Marathi Translation:  तू बरोबर आहेस का \n",
      "=====================================================\n",
      "Input English sentence: what happened to your leg\n",
      "Actual Marathi Translation:  तुझ्या पायाला काय झालं \n",
      "Predicted Marathi Translation:  काय झालं हे टॉमला हवं होतं \n",
      "=====================================================\n",
      "Input English sentence: this is our room\n",
      "Actual Marathi Translation:  ही आमची खोली आहे \n",
      "Predicted Marathi Translation:  ही आपली खोली आहे \n",
      "=====================================================\n",
      "Input English sentence: its a strip club for women\n",
      "Actual Marathi Translation:  हा स्त्रियांसाठी स्ट्रिप क्लब आहे \n",
      "Predicted Marathi Translation:  हा एक गावात झाला हा आहे \n",
      "=====================================================\n",
      "Input English sentence: do you like to study\n",
      "Actual Marathi Translation:  तुम्हाला अभ्यास करायला आवडतो का \n",
      "Predicted Marathi Translation:  तुला अभ्यास करायला आवडतो का \n",
      "=====================================================\n",
      "Input English sentence: im learning french\n",
      "Actual Marathi Translation:  मी फ्रेंच शिकतोय \n",
      "Predicted Marathi Translation:  मी फ्रेंच शिकतोय \n",
      "=====================================================\n",
      "Input English sentence: they are all happy\n",
      "Actual Marathi Translation:  ते सर्व खूष आहेत \n",
      "Predicted Marathi Translation:  ते सर्व खूष आहेत \n",
      "=====================================================\n",
      "Input English sentence: be careful the soups very hot\n",
      "Actual Marathi Translation:  सावकाश सूप खूप गरम आहे \n",
      "Predicted Marathi Translation:  खूप गरम गरम गरम आहे असं करा \n",
      "=====================================================\n",
      "Input English sentence: itll be fun\n",
      "Actual Marathi Translation:  मजा येईल \n",
      "Predicted Marathi Translation:  मजा येईल \n",
      "=====================================================\n",
      "Input English sentence: ive ordered a book from amazoncom\n",
      "Actual Marathi Translation:  मी अॅमजॉन डॉट कॉम पासून एक पुस्तक मागवलंय \n",
      "Predicted Marathi Translation:  मी वाचलं \n",
      "=====================================================\n",
      "Input English sentence: in my opinion he is correct\n",
      "Actual Marathi Translation:  माझ्या मते तो बरोबर आहे \n",
      "Predicted Marathi Translation:  माझ्या मते तो माझं मजा करू \n",
      "=====================================================\n",
      "Input English sentence: there is one problem\n",
      "Actual Marathi Translation:  एक समस्या आहे \n",
      "Predicted Marathi Translation:  एक समस्या आहे \n",
      "=====================================================\n",
      "Input English sentence: what are you two doing\n",
      "Actual Marathi Translation:  तुम्ही दोघं काय करत आहात \n",
      "Predicted Marathi Translation:  तू भरपूर काय डाउनलोड करत आहेत \n",
      "=====================================================\n",
      "Input English sentence: tom doesnt listen to mary\n",
      "Actual Marathi Translation:  टॉम मेरीचं ऐकत नाही \n",
      "Predicted Marathi Translation:  टॉम मेरीला ऐकत नाही \n",
      "=====================================================\n",
      "Input English sentence: which bag is yours\n",
      "Actual Marathi Translation:  तुझी पिशवी कोणती आहे \n",
      "Predicted Marathi Translation:  तुझी बॅग कोणती आहे \n",
      "=====================================================\n",
      "Input English sentence: its dark outside\n",
      "Actual Marathi Translation:  बाहेर काळोख आहे \n",
      "Predicted Marathi Translation:  बाहेर काळोख आहे \n",
      "=====================================================\n",
      "Input English sentence: have you seen this movie\n",
      "Actual Marathi Translation:  आपण हा चित्रपट बघितला आहे का \n",
      "Predicted Marathi Translation:  हा चित्रपट पाहिला आहे का \n",
      "=====================================================\n",
      "Input English sentence: tell tom mary doesnt want to go\n",
      "Actual Marathi Translation:  टॉमला सांग मेरीला जायचं नाहीये \n",
      "Predicted Marathi Translation:  टॉमला मेरीला सांग की जायचं नाहीये \n",
      "=====================================================\n",
      "Input English sentence: she is playing with her friends\n",
      "Actual Marathi Translation:  ती तिच्या मैत्रिणींबरोबर खेळते आहे \n",
      "Predicted Marathi Translation:  ती तिच्या बघतोय \n",
      "=====================================================\n",
      "Input English sentence: theyre constructing a bridge over the river\n",
      "Actual Marathi Translation:  ते नदीवरून जाणार्‍या पुलाचं बांधकाम करताहेत \n",
      "Predicted Marathi Translation:  ते ते वजन सुमारे पाच करायला झाली आहेत \n",
      "=====================================================\n",
      "Input English sentence: when does it arrive\n",
      "Actual Marathi Translation:  कधी पोहोचतं \n",
      "Predicted Marathi Translation:  कधी कधी \n",
      "=====================================================\n",
      "Input English sentence: these are beautiful flowers\n",
      "Actual Marathi Translation:  सुंदर फुलं आहेत ही \n",
      "Predicted Marathi Translation:  ही सुंदर फुलं आहेत \n",
      "=====================================================\n",
      "Input English sentence: the lion is the king of the jungle\n",
      "Actual Marathi Translation:  सिंह जंगलाचा राजा आहे \n",
      "Predicted Marathi Translation:  तो काळी काय आहे \n",
      "=====================================================\n",
      "Input English sentence: this is the bar where i drank my first beer\n",
      "Actual Marathi Translation:  हाच तो बार जिथे मी माझी पहिली बियर प्यायले \n",
      "Predicted Marathi Translation:  मी हे पहिली आयुष्य प्रसिद्ध आहे व त्या दुरुस्त \n",
      "=====================================================\n",
      "Input English sentence: he never laughs\n",
      "Actual Marathi Translation:  तो कधीही हसत नाही \n",
      "Predicted Marathi Translation:  तो कधीही हसत नाही \n",
      "=====================================================\n",
      "Input English sentence: its yours\n",
      "Actual Marathi Translation:  तुमचं आहे \n",
      "Predicted Marathi Translation:  तुझं आहे \n",
      "=====================================================\n",
      "Input English sentence: wheres the remote\n",
      "Actual Marathi Translation:  रिमोट कुठे आहे \n",
      "Predicted Marathi Translation:  कुठेय \n",
      "=====================================================\n",
      "Input English sentence: we shouldve bought three bottles of wine\n",
      "Actual Marathi Translation:  आम्ही वाईनच्या तीन बाटल्या आणायला हव्या होत्या \n",
      "Predicted Marathi Translation:  आम्ही तीन बाटल्या राहायचं आहे हे टॉमला आवडते \n",
      "=====================================================\n",
      "Input English sentence: you like classical music dont you\n",
      "Actual Marathi Translation:  तुला क्लासिकल संगीत आवडतं नाही का \n",
      "Predicted Marathi Translation:  तुम्हाला शास्त्रीय संगीत आवडतं नाही का \n",
      "=====================================================\n",
      "Input English sentence: if youre going to the party let me know\n",
      "Actual Marathi Translation:  पार्टीला जाणार असाल तर मला कळवा \n",
      "Predicted Marathi Translation:  तू काय करता आलं तर मला जाणार जाऊ शकत \n",
      "=====================================================\n",
      "Input English sentence: algeria is called ldzayer in berber\n",
      "Actual Marathi Translation:  अल्जीरियाला बरबर भाषेत ल्ड्जॅयर असं म्हणतात \n",
      "Predicted Marathi Translation:  भाषेत तासात आहे का \n",
      "=====================================================\n",
      "Input English sentence: he came in fifth in the race\n",
      "Actual Marathi Translation:  तो शर्यतीत पाचव्या पदावर आला \n",
      "Predicted Marathi Translation:  तो स्वतःचं दिवसांनंतर कोण \n",
      "=====================================================\n",
      "Input English sentence: its because of me that tom is here\n",
      "Actual Marathi Translation:  टॉम इथे आहे ते माझ्यामुळेच \n",
      "Predicted Marathi Translation:  टॉम आहे हे मला कोण आहे \n",
      "=====================================================\n",
      "Input English sentence: im not a saint\n",
      "Actual Marathi Translation:  मी काय संत नाहीये \n",
      "Predicted Marathi Translation:  मी काय करणार नाहीये \n",
      "=====================================================\n",
      "Input English sentence: i have one brother\n",
      "Actual Marathi Translation:  माझ्याकडे एक भाऊ आहे \n",
      "Predicted Marathi Translation:  माझा एक भाऊ आहे \n",
      "=====================================================\n",
      "Input English sentence: this doll costs only sixty cents\n",
      "Actual Marathi Translation:  या बाहुलीची किंमत फक्त साठ सेंट आहे \n",
      "Predicted Marathi Translation:  या प्रकारे फक्त डॉलर मी महिने कुठे प्रयत्न केला\n",
      "=====================================================\n",
      "Input English sentence: tom never yells at us\n",
      "Actual Marathi Translation:  टॉम आमच्यावर कधीच ओरडत नाही \n",
      "Predicted Marathi Translation:  टॉम कधीही विसरणार नाही \n",
      "=====================================================\n",
      "Input English sentence: how rich are they\n",
      "Actual Marathi Translation:  ते किती श्रीमंत आहेत \n",
      "Predicted Marathi Translation:  ते किती श्रीमंत आहेत \n",
      "=====================================================\n",
      "Input English sentence: its monday\n",
      "Actual Marathi Translation:  सोमवार आहे \n",
      "Predicted Marathi Translation:  सोमवार आहे \n",
      "=====================================================\n",
      "Input English sentence: i bought it for dollars\n",
      "Actual Marathi Translation:  मी ते दहा डॉलरमध्ये विकत घेतलं \n",
      "Predicted Marathi Translation:  मी एक गाणं विकत घेतली \n",
      "=====================================================\n",
      "Input English sentence: whos your favorite country musician\n",
      "Actual Marathi Translation:  तुझा आवडता कन्ट्री संगीतकार कोण आहे \n",
      "Predicted Marathi Translation:  तुझा आवडता संगीतकार कोण आहे \n",
      "=====================================================\n",
      "Input English sentence: theyre very poor\n",
      "Actual Marathi Translation:  ते खूप गरीब आहेत \n",
      "Predicted Marathi Translation:  त्या अतिशय गरीब आहेत \n",
      "=====================================================\n",
      "Input English sentence: ive seen you with tom\n",
      "Actual Marathi Translation:  मी तुम्हाला टॉमबरोबर पाहिलं आहे \n",
      "Predicted Marathi Translation:  मी तुला टॉमबरोबर पाहिलं आहे \n",
      "=====================================================\n",
      "Input English sentence: give her a doll\n",
      "Actual Marathi Translation:  तिला एखादी बाहुली दे \n",
      "Predicted Marathi Translation:  तिला एक बाहुली द्या \n",
      "=====================================================\n",
      "Input English sentence: youre useless\n",
      "Actual Marathi Translation:  तुम्ही बेकार आहात \n",
      "Predicted Marathi Translation:  तू बेकार आहेस \n",
      "=====================================================\n",
      "Input English sentence: clean the room\n",
      "Actual Marathi Translation:  खोली साफ कर \n",
      "Predicted Marathi Translation:  खोली साफ करा \n",
      "=====================================================\n",
      "Input English sentence: she came alone\n",
      "Actual Marathi Translation:  ती एकटी आली \n",
      "Predicted Marathi Translation:  ती एकटी आली \n",
      "=====================================================\n",
      "Input English sentence: she fell asleep\n",
      "Actual Marathi Translation:  त्या झोपून गेल्या \n",
      "Predicted Marathi Translation:  ती झोपून गेली \n",
      "=====================================================\n",
      "Input English sentence: tom will be late\n",
      "Actual Marathi Translation:  टॉमला उशीर होईल \n",
      "Predicted Marathi Translation:  टॉमला उशीर झाला होता \n",
      "=====================================================\n",
      "Input English sentence: i like cats\n",
      "Actual Marathi Translation:  मला मांजरी आवडतात \n",
      "Predicted Marathi Translation:  मला मांजरी आवडतात \n",
      "=====================================================\n",
      "Input English sentence: is he american\n",
      "Actual Marathi Translation:  तो अमेरिकन आहे \n",
      "Predicted Marathi Translation:  तो अमेरिकन आहे का \n",
      "=====================================================\n",
      "Input English sentence: tom has black hair\n",
      "Actual Marathi Translation:  टॉमकडे काळे केस आहेत \n",
      "Predicted Marathi Translation:  टॉमने निळे कपडे आहेत \n",
      "=====================================================\n",
      "Input English sentence: i saw tom play tennis\n",
      "Actual Marathi Translation:  मी टॉमला टेनिस खेळताना पाहिलं \n",
      "Predicted Marathi Translation:  मी टॉमला टेनिस खेळतो \n",
      "=====================================================\n",
      "Input English sentence: have i ever lied to you\n",
      "Actual Marathi Translation:  मी तुमच्याशी कधी खोटं बोललो आहे का \n",
      "Predicted Marathi Translation:  मी तुला खोटं खोटं बोलायला आवडत नाही \n",
      "=====================================================\n",
      "Input English sentence: we did that\n",
      "Actual Marathi Translation:  ते आम्ही केलं \n",
      "Predicted Marathi Translation:  आम्ही ते केलं \n",
      "=====================================================\n",
      "Input English sentence: my brother caught a big fish\n",
      "Actual Marathi Translation:  दादाने एक मोठा मासा पकडला \n",
      "Predicted Marathi Translation:  माझ्या एक भाऊ मोठा मासा म्हणतो \n",
      "=====================================================\n",
      "Input English sentence: where did you get those old coins\n",
      "Actual Marathi Translation:  तुम्हाला या जुन्या नाणी कुठे मिळाल्या \n",
      "Predicted Marathi Translation:  तुला या जुन्या नाणी कुठे मिळाल्या \n",
      "=====================================================\n",
      "Input English sentence: tom began crying\n",
      "Actual Marathi Translation:  टॉम रडू लागला \n",
      "Predicted Marathi Translation:  टॉम रडत होता \n",
      "=====================================================\n",
      "Input English sentence: he goes there every day\n",
      "Actual Marathi Translation:  तो तिथे दररोज जातो \n",
      "Predicted Marathi Translation:  तो शाळेत चालत गेला \n",
      "=====================================================\n",
      "Input English sentence: pakistan is a muslim country\n",
      "Actual Marathi Translation:  पाकिस्तान मुस्लिम देश आहे \n",
      "Predicted Marathi Translation:  एक मुस्लिम देश आहे \n",
      "=====================================================\n",
      "Input English sentence: we didnt find a weapon\n",
      "Actual Marathi Translation:  आपल्याला हत्यार सापडलं नाही \n",
      "Predicted Marathi Translation:  आम्हाला सापडलं नाही \n",
      "=====================================================\n",
      "Input English sentence: im sitting on the sofa\n",
      "Actual Marathi Translation:  मी सोफ्यावर बसलोय \n",
      "Predicted Marathi Translation:  मी सोफ्यावर बसला \n",
      "=====================================================\n",
      "Input English sentence: you have thirty seconds left\n",
      "Actual Marathi Translation:  तुझ्याकडे तीस सेकंद राहिले आहेत \n",
      "Predicted Marathi Translation:  तू तीस तीस मुलं आहेत \n",
      "=====================================================\n",
      "Input English sentence: i can write my name in chinese\n",
      "Actual Marathi Translation:  मी स्वतःचं नाव चीनीत लिहू शकतो \n",
      "Predicted Marathi Translation:  मला नाव चिनी शब्द फ्रेंच \n",
      "=====================================================\n",
      "Input English sentence: what is over there\n",
      "Actual Marathi Translation:  ते तिथे काय आहे \n",
      "Predicted Marathi Translation:  तिथे काय आहे \n",
      "=====================================================\n",
      "Input English sentence: whatever you do dont run\n",
      "Actual Marathi Translation:  काहीही करून धावू नकोस \n",
      "Predicted Marathi Translation:  जे करायला काही समजत नाही ते इथे गेलं \n",
      "=====================================================\n",
      "Input English sentence: i should have said something\n",
      "Actual Marathi Translation:  मी काहीतरी म्हणायला हवं होतं \n",
      "Predicted Marathi Translation:  मी काहीतरी हवं होतं \n",
      "=====================================================\n",
      "Input English sentence: where is my soccer ball\n",
      "Actual Marathi Translation:  माझा फुटबॉल कुठे आहे \n",
      "Predicted Marathi Translation:  माझा फुटबॉल कुठे आहे \n",
      "=====================================================\n",
      "Input English sentence: i bought an electric car\n",
      "Actual Marathi Translation:  मी एक इलेक्ट्रिक गाडी विकत घेतली \n",
      "Predicted Marathi Translation:  मी एक गाडी विकत घेतला \n",
      "=====================================================\n",
      "Input English sentence: take tom somewhere\n",
      "Actual Marathi Translation:  टॉमला कुठेतरी ने \n",
      "Predicted Marathi Translation:  टॉमला कुठेतरी घेऊन जा \n",
      "=====================================================\n",
      "Input English sentence: he went in place of me\n",
      "Actual Marathi Translation:  ते माझ्या ऐवजी गेले \n",
      "Predicted Marathi Translation:  तो माझी वर्षी पडला \n",
      "=====================================================\n",
      "Input English sentence: she woke him up\n",
      "Actual Marathi Translation:  तिने त्याला उठवले \n",
      "Predicted Marathi Translation:  तिने त्याला थांबायला दे \n",
      "=====================================================\n",
      "Input English sentence: who taught you french\n",
      "Actual Marathi Translation:  तुला फ्रेंच कोणी शिकवली \n",
      "Predicted Marathi Translation:  तुला फ्रेंच कोणी शिकवलं \n",
      "=====================================================\n",
      "Input English sentence: tom works at night\n",
      "Actual Marathi Translation:  टॉम रात्री काम करतो \n",
      "Predicted Marathi Translation:  टॉम रात्री काम करतो \n",
      "=====================================================\n",
      "Input English sentence: there isnt much time\n",
      "Actual Marathi Translation:  जास्त वेळ नाहीये \n",
      "Predicted Marathi Translation:  वेळ नाहीये \n",
      "=====================================================\n",
      "Input English sentence: you are not able to swim are you\n",
      "Actual Marathi Translation:  तुला पोहता येत नाही ना \n",
      "Predicted Marathi Translation:  तुला पोहता येत नाही ना \n",
      "=====================================================\n",
      "Input English sentence: she didnt come to the party but nobody knows the reason\n",
      "Actual Marathi Translation:  ती पार्टीला आली नव्हती पण कोणालाही याचे कारण माहीत नाही \n",
      "Predicted Marathi Translation:  ती पार्टीला काय माहीत नाही तर तोच देव असतं \n",
      "=====================================================\n",
      "Input English sentence: will he come this evening\n",
      "Actual Marathi Translation:  तो आज संध्याकाळी येईल का \n",
      "Predicted Marathi Translation:  तो आज संध्याकाळी येईल का \n",
      "=====================================================\n",
      "Input English sentence: she is always scared\n",
      "Actual Marathi Translation:  ती नेहमीच घाबरलेली असते \n",
      "Predicted Marathi Translation:  ती नेहमीच नेहमीच \n",
      "=====================================================\n",
      "Input English sentence: whats the topic\n",
      "Actual Marathi Translation:  विषय काय आहे \n",
      "Predicted Marathi Translation:  काय मोठा आहे \n",
      "=====================================================\n",
      "Input English sentence: father bought me a camera\n",
      "Actual Marathi Translation:  बाबांनी माझ्यासाठी एक कॅमेरा विकत घेतला \n",
      "Predicted Marathi Translation:  बाबांनी मला एक कॅमेरा विकत घेतला \n",
      "=====================================================\n",
      "Input English sentence: tom wasnt rich\n",
      "Actual Marathi Translation:  टॉम श्रीमंत नव्हता \n",
      "Predicted Marathi Translation:  टॉम श्रीमंत नव्हता \n",
      "=====================================================\n",
      "Input English sentence: did you find something\n",
      "Actual Marathi Translation:  काही सापडलं का \n",
      "Predicted Marathi Translation:  तुम्हाला काहीतरी सापडलं का \n",
      "=====================================================\n",
      "Input English sentence: take whichever you like\n",
      "Actual Marathi Translation:  हवी ती घे \n",
      "Predicted Marathi Translation:  तुम्हाला आवडतं \n",
      "=====================================================\n",
      "Input English sentence: why are you all still awake\n",
      "Actual Marathi Translation:  तुम्ही सगळे अजूनही जागे का आहात \n",
      "Predicted Marathi Translation:  तू अजूनही सर्व कशाला आहात का \n",
      "=====================================================\n",
      "Input English sentence: what is art\n",
      "Actual Marathi Translation:  कला म्हणजे काय \n",
      "Predicted Marathi Translation:  काय आहे \n",
      "=====================================================\n",
      "Input English sentence: ive found it\n",
      "Actual Marathi Translation:  सापडलं \n",
      "Predicted Marathi Translation:  मला सापडलं आहे \n",
      "=====================================================\n",
      "Input English sentence: before buying shoes you should try them on\n",
      "Actual Marathi Translation:  बूट विकत घेण्याअगोदर घालून बघितले पाहिजेत \n",
      "Predicted Marathi Translation:  कोणीतरी मुलांना विकत घेतली पाहिजे \n",
      "=====================================================\n",
      "Input English sentence: they booted him out of school for not studying\n",
      "Actual Marathi Translation:  अभ्यास न करण्यासाठी त्याला शाळेतून बाहेर काढून टाकण्यात आलं \n",
      "Predicted Marathi Translation:  त्यांनी त्याला शाळेत अभ्यास करायला दिली \n",
      "=====================================================\n",
      "Input English sentence: the garden cant be seen from the outside\n",
      "Actual Marathi Translation:  ते बाग बाहेरून दिसत नाही \n",
      "Predicted Marathi Translation:  ते बागेत बॉस्टनला येत नाही \n",
      "=====================================================\n",
      "Input English sentence: would you care for a cup of tea\n",
      "Actual Marathi Translation:  तुम्ही एक कप चहा घ्याल का \n",
      "Predicted Marathi Translation:  तुला एक कप कॉफी मिळेल का \n",
      "=====================================================\n",
      "Input English sentence: look at these\n",
      "Actual Marathi Translation:  हे बघ \n",
      "Predicted Marathi Translation:  हे बघ \n",
      "=====================================================\n",
      "Input English sentence: i want to write an article\n",
      "Actual Marathi Translation:  मला एक लेख लिहायचा आहे \n",
      "Predicted Marathi Translation:  मला एक दिवस आधीच दिवस आहे \n",
      "=====================================================\n",
      "Input English sentence: i shut the window to keep the mosquitoes out\n",
      "Actual Marathi Translation:  डासांना बाहेर ठेवायला मी खिडकी बंद करतो \n",
      "Predicted Marathi Translation:  मी बाहेर टॅक्सीने गाता येतं \n",
      "=====================================================\n",
      "Input English sentence: thats toms\n",
      "Actual Marathi Translation:  ते टॉमचं आहे \n",
      "Predicted Marathi Translation:  तो टॉमची आहे \n",
      "=====================================================\n",
      "Input English sentence: nobody can beat you\n",
      "Actual Marathi Translation:  तुला कोणीही हरवू शकत नाही \n",
      "Predicted Marathi Translation:  तुला कोणीही हरवू शकत नाही \n",
      "=====================================================\n",
      "Input English sentence: this is french\n",
      "Actual Marathi Translation:  ही फ्रेंच आहे \n",
      "Predicted Marathi Translation:  हे फ्रेंच आहे \n",
      "=====================================================\n",
      "Input English sentence: he teaches arabic\n",
      "Actual Marathi Translation:  तो अरबी शिकवतो \n",
      "Predicted Marathi Translation:  तो अरबी शिकवतो \n",
      "=====================================================\n"
     ]
    }
   ],
   "source": [
    "for k in range(0,100):\n",
    "  (input_seq, actual_output), _ = next(train_gen)\n",
    "  decoded_sentence = decode_sequence(input_seq)\n",
    "  print('Input English sentence:', X_train[k:k+1].values[0])\n",
    "  print('Actual Marathi Translation:', y_train[k:k+1].values[0][6:-4])\n",
    "  print('Predicted Marathi Translation:', decoded_sentence[:-4])\n",
    "  print('=====================================================')"
   ]
  },
  {
   "cell_type": "markdown",
   "metadata": {
    "colab_type": "text",
    "id": "N7d3c6De8bQg"
   },
   "source": [
    "### Evaluation on Validation Dataset"
   ]
  },
  {
   "cell_type": "code",
   "execution_count": 0,
   "metadata": {
    "colab": {},
    "colab_type": "code",
    "id": "1jFIPsPe8bQh"
   },
   "outputs": [],
   "source": [
    "val_gen = generate_batch(X_test, y_test, batch_size = 1)\n",
    "k=-1"
   ]
  },
  {
   "cell_type": "code",
   "execution_count": 57,
   "metadata": {
    "colab": {
     "base_uri": "https://localhost:8080/",
     "height": 68
    },
    "colab_type": "code",
    "id": "4ulIGWwcf3_I",
    "outputId": "6cc1a293-a831-48dc-e810-3fe1681caacc"
   },
   "outputs": [
    {
     "name": "stdout",
     "output_type": "stream",
     "text": [
      "Input English sentence: dinners ready\n",
      "Actual Marathi Translation:  जेवण तयार आहे \n",
      "Predicted Marathi Translation:  तयार तर चालेल \n"
     ]
    }
   ],
   "source": [
    "k+=1\n",
    "(input_seq, actual_output), _ = next(val_gen)\n",
    "decoded_sentence = decode_sequence(input_seq)\n",
    "print('Input English sentence:', X_test[k:k+1].values[0])\n",
    "print('Actual Marathi Translation:', y_test[k:k+1].values[0][6:-4])\n",
    "print('Predicted Marathi Translation:', decoded_sentence[:-4])"
   ]
  },
  {
   "cell_type": "code",
   "execution_count": 58,
   "metadata": {
    "colab": {
     "base_uri": "https://localhost:8080/",
     "height": 68
    },
    "colab_type": "code",
    "id": "baM1A2off38Y",
    "outputId": "0ffc6816-66d6-4a3a-96b1-817d2bb90277"
   },
   "outputs": [
    {
     "name": "stdout",
     "output_type": "stream",
     "text": [
      "Input English sentence: tom loves reading\n",
      "Actual Marathi Translation:  टॉमला वाचनाची मोठी आवड आहे \n",
      "Predicted Marathi Translation:  टॉमला वाचत असताना \n"
     ]
    }
   ],
   "source": [
    "k+=1\n",
    "(input_seq, actual_output), _ = next(val_gen)\n",
    "decoded_sentence = decode_sequence(input_seq)\n",
    "print('Input English sentence:', X_test[k:k+1].values[0])\n",
    "print('Actual Marathi Translation:', y_test[k:k+1].values[0][6:-4])\n",
    "print('Predicted Marathi Translation:', decoded_sentence[:-4])"
   ]
  },
  {
   "cell_type": "code",
   "execution_count": 59,
   "metadata": {
    "colab": {
     "base_uri": "https://localhost:8080/",
     "height": 68
    },
    "colab_type": "code",
    "id": "F-BPK1IVf36p",
    "outputId": "1ea3f336-76bd-4055-ed92-1a5aff8dbf2c"
   },
   "outputs": [
    {
     "name": "stdout",
     "output_type": "stream",
     "text": [
      "Input English sentence: what are you reading\n",
      "Actual Marathi Translation:  तु काय वाचतेयस \n",
      "Predicted Marathi Translation:  तू काय वाचत आहेस \n"
     ]
    }
   ],
   "source": [
    "k+=1\n",
    "(input_seq, actual_output), _ = next(val_gen)\n",
    "decoded_sentence = decode_sequence(input_seq)\n",
    "print('Input English sentence:', X_test[k:k+1].values[0])\n",
    "print('Actual Marathi Translation:', y_test[k:k+1].values[0][6:-4])\n",
    "print('Predicted Marathi Translation:', decoded_sentence[:-4])"
   ]
  },
  {
   "cell_type": "markdown",
   "metadata": {
    "colab_type": "text",
    "id": "QKlDWjhf7NjF"
   },
   "source": [
    "### [The End]"
   ]
  },
  {
   "cell_type": "code",
   "execution_count": 0,
   "metadata": {
    "colab": {},
    "colab_type": "code",
    "id": "HPgA4Gws7O99"
   },
   "outputs": [],
   "source": []
  },
  {
   "cell_type": "code",
   "execution_count": 0,
   "metadata": {
    "colab": {},
    "colab_type": "code",
    "id": "YYPsH_BGg7cg"
   },
   "outputs": [],
   "source": []
  }
 ],
 "metadata": {
  "accelerator": "GPU",
  "colab": {
   "collapsed_sections": [],
   "machine_shape": "hm",
   "name": "SDCInternship.ipynb",
   "provenance": []
  },
  "kernelspec": {
   "display_name": "Python 3",
   "language": "python",
   "name": "python3"
  },
  "language_info": {
   "codemirror_mode": {
    "name": "ipython",
    "version": 3
   },
   "file_extension": ".py",
   "mimetype": "text/x-python",
   "name": "python",
   "nbconvert_exporter": "python",
   "pygments_lexer": "ipython3",
   "version": "3.7.4"
  }
 },
 "nbformat": 4,
 "nbformat_minor": 1
}
